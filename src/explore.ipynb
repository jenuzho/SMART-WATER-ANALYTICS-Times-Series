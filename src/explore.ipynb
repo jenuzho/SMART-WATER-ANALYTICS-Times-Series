{
    "cells": [
        {
            "cell_type": "markdown",
            "metadata": {},
            "source": [
                "<br>\n",
                "\n",
                "<br>\n",
                "\n",
                "# 🌊 **ACEA SMART WATER ANALYTICS** 🌊\n"
            ]
        },
        {
            "cell_type": "markdown",
            "metadata": {},
            "source": [
                "**ANALYZING THE RELATIONSHIP OF PRECIPITATION TO BILANCINO LAKE'S WATER LEVEL**"
            ]
        },
        {
            "cell_type": "markdown",
            "metadata": {},
            "source": [
                "**TIMES SERIES**"
            ]
        },
        {
            "cell_type": "markdown",
            "metadata": {},
            "source": [
                "<br>\n",
                "\n",
                "# **INDEX**\n",
                "\n",
                "- **STEP 1: PROBLEM DEFINITION**\n",
                "- **STEP 2: DATA COLLECTION**\n",
                "- **STEP 3: DATA EXPLORATION & CLEANING**\n",
                "- **STEP 4: FEATURE ENGINEERING & SELECTION**\n",
                "- **STEP 5: MODEL SELECTION & IMPLEMENTATION**\n",
                "- **STEP 6: MODEL EVALUATION & INTERPRETATION**\n",
                "- **STEP 7: VISUALIZATION & INSIGHTS**\n",
                "- **STEP 8: CONCLUSION & RECOMMENDATIONS**"
            ]
        },
        {
            "cell_type": "markdown",
            "metadata": {},
            "source": [
                "<br>\n",
                "\n",
                "<br>\n",
                "\n",
                "---\n",
                "\n",
                "<br>"
            ]
        },
        {
            "cell_type": "markdown",
            "metadata": {},
            "source": [
                "<div style=\"text-align: justify;\">\n",
                "\n",
                "</div>"
            ]
        },
        {
            "cell_type": "markdown",
            "metadata": {},
            "source": [
                "# **STEP 1: PROBLEM DEFINITION**\n",
                "\n",
                "<br>\n",
                "\n"
            ]
        },
        {
            "cell_type": "markdown",
            "metadata": {},
            "source": [
                "**Understanding the Problem:**\n",
                "\n",
                "<div style=\"text-align: justify;\">\n",
                "\n",
                "Water resource management is crucial for environmental **sustainability, agriculture**, and **urban planning**. The **Lake Bilancino** dataset provides historical data on lake levels and various meteorological factors. The primary goal is to analyze the relationship between precipitation levels and lake water levels over time.\n",
                "\n",
                "\n",
                "**Research Question:**\n",
                "\n",
                "How does precipitation impact the water level of **Lake Bilancino**?\n",
                "\n",
                "Hypothesis:\n",
                "\n",
                "<div style=\"text-align: justify;\">\n",
                "\n",
                "An increase in precipitation will lead to a **rise** in the lake's water level, while periods of low precipitation may correspond to a **drop** in water levels.\n",
                "</div>\n",
                "\n",
                "**Key Variables:**\n",
                "\n",
                "- **Dependent Variable:** `Lake_Level` (Water level of the lake).\n",
                "- **Independent Variable:** `Precipitation` (Rainfall amount over time).\n",
                "- **Other Potential Influencing Factors:** Temperature, humidity, drainage volumes, and seasonal patterns.\n",
                "\n",
                "**Scope of the Analysis:**\n",
                "<div style=\"text-align: justify;\">\n",
                "\n",
                "This project will focus on identifying correlations and trends between precipitation and lake levels using time-series data. The insights gained could be valuable for:\n",
                "</div>\n",
                "\n",
                "- Water conservation strategies.\n",
                "- Predicting potential droughts or overflows.\n",
                "- Enhancing decision-making in water resource management."
            ]
        },
        {
            "cell_type": "markdown",
            "metadata": {},
            "source": [
                "<br>\n",
                "\n",
                "---\n",
                "\n",
                "<br>"
            ]
        },
        {
            "cell_type": "markdown",
            "metadata": {},
            "source": [
                "<br>\n",
                "\n",
                "# **STEP 2: DATA COLLECTION**"
            ]
        },
        {
            "cell_type": "markdown",
            "metadata": {},
            "source": [
                "- 2.1. Library Importing\n",
                "- 2.2. Data Collection"
            ]
        },
        {
            "cell_type": "markdown",
            "metadata": {},
            "source": [
                "<br>\n",
                "\n",
                "**2.1. LIBRARY IMPORTING**"
            ]
        },
        {
            "cell_type": "code",
            "execution_count": 5,
            "metadata": {},
            "outputs": [],
            "source": [
                "import os\n",
                "import pandas as pd\n",
                "import zipfile\n"
            ]
        },
        {
            "cell_type": "markdown",
            "metadata": {},
            "source": [
                "<br>\n",
                "\n",
                "**2.2. DATA COLLECTION**"
            ]
        },
        {
            "cell_type": "code",
            "execution_count": 8,
            "metadata": {},
            "outputs": [
                {
                    "name": "stdout",
                    "output_type": "stream",
                    "text": [
                        "'Lake_Bilancino.csv' extraído \n"
                    ]
                }
            ],
            "source": [
                "zip_path = \"data/acea-water-prediction.zip\"\n",
                "\n",
                "extract_to = os.getcwd()\n",
                "\n",
                "with zipfile.ZipFile(zip_path, \"r\") as zip_ref:\n",
                "    if \"Lake_Bilancino.csv\" in zip_ref.namelist():\n",
                "        zip_ref.extract(\"Lake_Bilancino.csv\", extract_to)\n",
                "        print(f\"'Lake_Bilancino.csv' extraído \")\n",
                "    else:\n",
                "        print(\"El archivo 'Lake_Bilancino.csv' no se encontró en el ZIP.\")\n"
            ]
        },
        {
            "cell_type": "code",
            "execution_count": 10,
            "metadata": {},
            "outputs": [
                {
                    "data": {
                        "text/html": [
                            "<div>\n",
                            "<style scoped>\n",
                            "    .dataframe tbody tr th:only-of-type {\n",
                            "        vertical-align: middle;\n",
                            "    }\n",
                            "\n",
                            "    .dataframe tbody tr th {\n",
                            "        vertical-align: top;\n",
                            "    }\n",
                            "\n",
                            "    .dataframe thead th {\n",
                            "        text-align: right;\n",
                            "    }\n",
                            "</style>\n",
                            "<table border=\"1\" class=\"dataframe\">\n",
                            "  <thead>\n",
                            "    <tr style=\"text-align: right;\">\n",
                            "      <th></th>\n",
                            "      <th>Date</th>\n",
                            "      <th>Rainfall_S_Piero</th>\n",
                            "      <th>Rainfall_Mangona</th>\n",
                            "      <th>Rainfall_S_Agata</th>\n",
                            "      <th>Rainfall_Cavallina</th>\n",
                            "      <th>Rainfall_Le_Croci</th>\n",
                            "      <th>Temperature_Le_Croci</th>\n",
                            "      <th>Lake_Level</th>\n",
                            "      <th>Flow_Rate</th>\n",
                            "    </tr>\n",
                            "  </thead>\n",
                            "  <tbody>\n",
                            "    <tr>\n",
                            "      <th>0</th>\n",
                            "      <td>03/06/2002</td>\n",
                            "      <td>NaN</td>\n",
                            "      <td>NaN</td>\n",
                            "      <td>NaN</td>\n",
                            "      <td>NaN</td>\n",
                            "      <td>NaN</td>\n",
                            "      <td>NaN</td>\n",
                            "      <td>249.43</td>\n",
                            "      <td>0.31</td>\n",
                            "    </tr>\n",
                            "    <tr>\n",
                            "      <th>1</th>\n",
                            "      <td>04/06/2002</td>\n",
                            "      <td>NaN</td>\n",
                            "      <td>NaN</td>\n",
                            "      <td>NaN</td>\n",
                            "      <td>NaN</td>\n",
                            "      <td>NaN</td>\n",
                            "      <td>NaN</td>\n",
                            "      <td>249.43</td>\n",
                            "      <td>0.31</td>\n",
                            "    </tr>\n",
                            "    <tr>\n",
                            "      <th>2</th>\n",
                            "      <td>05/06/2002</td>\n",
                            "      <td>NaN</td>\n",
                            "      <td>NaN</td>\n",
                            "      <td>NaN</td>\n",
                            "      <td>NaN</td>\n",
                            "      <td>NaN</td>\n",
                            "      <td>NaN</td>\n",
                            "      <td>249.43</td>\n",
                            "      <td>0.31</td>\n",
                            "    </tr>\n",
                            "    <tr>\n",
                            "      <th>3</th>\n",
                            "      <td>06/06/2002</td>\n",
                            "      <td>NaN</td>\n",
                            "      <td>NaN</td>\n",
                            "      <td>NaN</td>\n",
                            "      <td>NaN</td>\n",
                            "      <td>NaN</td>\n",
                            "      <td>NaN</td>\n",
                            "      <td>249.43</td>\n",
                            "      <td>0.31</td>\n",
                            "    </tr>\n",
                            "    <tr>\n",
                            "      <th>4</th>\n",
                            "      <td>07/06/2002</td>\n",
                            "      <td>NaN</td>\n",
                            "      <td>NaN</td>\n",
                            "      <td>NaN</td>\n",
                            "      <td>NaN</td>\n",
                            "      <td>NaN</td>\n",
                            "      <td>NaN</td>\n",
                            "      <td>249.44</td>\n",
                            "      <td>0.31</td>\n",
                            "    </tr>\n",
                            "  </tbody>\n",
                            "</table>\n",
                            "</div>"
                        ],
                        "text/plain": [
                            "         Date  Rainfall_S_Piero  Rainfall_Mangona  Rainfall_S_Agata  \\\n",
                            "0  03/06/2002               NaN               NaN               NaN   \n",
                            "1  04/06/2002               NaN               NaN               NaN   \n",
                            "2  05/06/2002               NaN               NaN               NaN   \n",
                            "3  06/06/2002               NaN               NaN               NaN   \n",
                            "4  07/06/2002               NaN               NaN               NaN   \n",
                            "\n",
                            "   Rainfall_Cavallina  Rainfall_Le_Croci  Temperature_Le_Croci  Lake_Level  \\\n",
                            "0                 NaN                NaN                   NaN      249.43   \n",
                            "1                 NaN                NaN                   NaN      249.43   \n",
                            "2                 NaN                NaN                   NaN      249.43   \n",
                            "3                 NaN                NaN                   NaN      249.43   \n",
                            "4                 NaN                NaN                   NaN      249.44   \n",
                            "\n",
                            "   Flow_Rate  \n",
                            "0       0.31  \n",
                            "1       0.31  \n",
                            "2       0.31  \n",
                            "3       0.31  \n",
                            "4       0.31  "
                        ]
                    },
                    "execution_count": 10,
                    "metadata": {},
                    "output_type": "execute_result"
                }
            ],
            "source": [
                "pd.options.display.max_columns=None\n",
                "df = pd.read_csv(\"Lake_Bilancino.csv\")\n",
                "df.head()"
            ]
        },
        {
            "cell_type": "markdown",
            "metadata": {},
            "source": [
                "<br>\n",
                "\n",
                "---\n",
                "\n",
                "<br>"
            ]
        },
        {
            "cell_type": "markdown",
            "metadata": {},
            "source": [
                "<br>\n",
                "\n",
                "# **STEP 2: DATA EXPLORATION AND CLEANING**"
            ]
        },
        {
            "cell_type": "markdown",
            "metadata": {},
            "source": [
                "\n",
                "- 2.1. Exploration: Understanding the Features\n",
                "- 2.2. Identifying null values in each feature\n",
                "- 2.3. Eliminating Duplicates\n",
                "- 2.4. Eliminating Irrelevant Information\n",
                "\n",
                "<br>"
            ]
        },
        {
            "cell_type": "markdown",
            "metadata": {},
            "source": [
                "<br>\n",
                "\n",
                "**2.1. EXPLORATION: UNDERSTANDING THE FEATURES**"
            ]
        },
        {
            "cell_type": "markdown",
            "metadata": {},
            "source": [
                "The **Lake Bilancino dataset**, contains hydrological and meteorological data relevant for time-series analysis.\n",
                "\n",
                "**Key Features of the Dataset:**\n",
                "- **`Date`**: Timestamp of recorded observations.\n",
                "- **`Rainfall_S_Piero`**: Precipitation measured at the San Piero station.\n",
                "- **`Rainfall_Mangona`**: Precipitation recorded at the Mangona station.\n",
                "- **`Rainfall_S_Agata`**: Precipitation at the Sant'Agata station.\n",
                "- **`Rainfall_Cavallina`**: Precipitation at the Cavallina station.\n",
                "- **`Rainfall_Le_Croci`**: Precipitation at the Le Croci station.\n",
                "- **`Temperature_Le_Croci`**: Temperature recorded at the Le Croci station.\n",
                "- **`Lake_Level`**: Bilancino Lake level, measured in meters.\n",
                "- **`Flow_Rate`**: Lake outflow rate, measured in cubic meters per second.\n",
                "\n",
                "**Feature Description:** \n",
                "\n",
                "- **Precipitation (Rainfall):**\n",
                "These variables represent the amount of **rainfall recorded at different stations** around **Lake Bilancino**. Rainfall **directly impacts** the lake level and outflow rate, as rainwater contributes to the **total volume** of the lake.\n",
                "\n",
                "- **Temperature (Temperature_Le_Croci):**\n",
                "Temperature can affect **water evaporation** from the lake, influencing its level. Additionally, extreme temperatures may **impact water demand** and the **lake's ecosystem.**\n",
                "\n",
                "- **Lake Level (Lake_Level):**\n",
                "Indicates the **height of the water** in **Lake Bilancino**. This is a **key indicator** for **water resource management**, as **extremely high or low levels** can have **environmental and operational consequences**.\n",
                "\n",
                "- **Flow Rate (Flow_Rate):**\n",
                "Measures the **amount of water leaving the lake per unit of time**. This is crucial for understanding **lake dynamics** and planning **water distribution** to surrounding areas.\n",
                "\n",
                "\n"
            ]
        },
        {
            "cell_type": "markdown",
            "metadata": {},
            "source": [
                "**Exploratory Analysis of the Features:**\n",
                "\n",
                "When analyzing these features, it is important to **assess correlations** between them. For example:\n",
                "\n",
                "- Investigating **how precipitation variations impact lake levels and flow rates.**\n",
                "- Identifying **seasonal trends** and long-term patterns in the data.\n",
                "\n",
                "Additionally, handling missing values and detecting anomalies is crucial to ensure data accuracy for further analysis. Data visualization techniques, such as time-series line plots and scatter plots, can help better understand the dynamics of Lake Bilancino.\n",
                "\n",
                "This exploratory feature analysis will provide a solid foundation for modeling and predicting the lake’s behavior, which is essential for efficient water resource management in the region."
            ]
        },
        {
            "cell_type": "code",
            "execution_count": 11,
            "metadata": {},
            "outputs": [
                {
                    "name": "stdout",
                    "output_type": "stream",
                    "text": [
                        "<class 'pandas.core.frame.DataFrame'>\n",
                        "RangeIndex: 6603 entries, 0 to 6602\n",
                        "Data columns (total 9 columns):\n",
                        " #   Column                Non-Null Count  Dtype  \n",
                        "---  ------                --------------  -----  \n",
                        " 0   Date                  6603 non-null   object \n",
                        " 1   Rainfall_S_Piero      6026 non-null   float64\n",
                        " 2   Rainfall_Mangona      6026 non-null   float64\n",
                        " 3   Rainfall_S_Agata      6026 non-null   float64\n",
                        " 4   Rainfall_Cavallina    6026 non-null   float64\n",
                        " 5   Rainfall_Le_Croci     6026 non-null   float64\n",
                        " 6   Temperature_Le_Croci  6025 non-null   float64\n",
                        " 7   Lake_Level            6603 non-null   float64\n",
                        " 8   Flow_Rate             6582 non-null   float64\n",
                        "dtypes: float64(8), object(1)\n",
                        "memory usage: 464.4+ KB\n"
                    ]
                }
            ],
            "source": [
                "df.info()"
            ]
        }
    ],
    "metadata": {
        "kernelspec": {
            "display_name": "Python 3",
            "language": "python",
            "name": "python3"
        },
        "language_info": {
            "codemirror_mode": {
                "name": "ipython",
                "version": 3
            },
            "file_extension": ".py",
            "mimetype": "text/x-python",
            "name": "python",
            "nbconvert_exporter": "python",
            "pygments_lexer": "ipython3",
            "version": "3.12.6"
        },
        "orig_nbformat": 4
    },
    "nbformat": 4,
    "nbformat_minor": 2
}
