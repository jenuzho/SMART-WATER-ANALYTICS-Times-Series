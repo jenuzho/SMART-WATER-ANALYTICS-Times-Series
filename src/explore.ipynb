{
    "cells": [
        {
            "cell_type": "markdown",
            "metadata": {},
            "source": [
                "<br>\n",
                "\n",
                "<br>\n",
                "\n",
                "# 🌊 **ACEA SMART WATER ANALYTICS** 🌊\n"
            ]
        },
        {
            "cell_type": "markdown",
            "metadata": {},
            "source": [
                "**ANALYZING THE RELATIONSHIP OF PRECIPITATION TO BILANCINO LAKE'S WATER LEVEL**"
            ]
        },
        {
            "cell_type": "markdown",
            "metadata": {},
            "source": [
                "**TIMES SERIES**"
            ]
        },
        {
            "cell_type": "markdown",
            "metadata": {},
            "source": [
                "<br>\n",
                "\n",
                "# **INDEX**\n",
                "\n",
                "- **STEP 1: PROBLEM DEFINITION**\n",
                "- **STEP 2: DATA COLLECTION**\n",
                "- **STEP 3: DATA EXPLORATION & CLEANING**\n",
                "- **STEP 4: FEATURE ENGINEERING & SELECTION**\n",
                "- **STEP 5: MODEL SELECTION & IMPLEMENTATION**\n",
                "- **STEP 6: MODEL EVALUATION & INTERPRETATION**\n",
                "- **STEP 7: VISUALIZATION & INSIGHTS**\n",
                "- **STEP 8: CONCLUSION & RECOMMENDATIONS**"
            ]
        },
        {
            "cell_type": "markdown",
            "metadata": {},
            "source": [
                "<br>\n",
                "\n",
                "<br>\n",
                "\n",
                "---\n",
                "\n",
                "<br>"
            ]
        },
        {
            "cell_type": "markdown",
            "metadata": {},
            "source": [
                "# **STEP 1: PROBLEM DEFINITION**\n",
                "\n",
                "<br>\n",
                "\n"
            ]
        },
        {
            "cell_type": "code",
            "execution_count": 1,
            "metadata": {},
            "outputs": [],
            "source": [
                "import os\n",
                "import pandas as pd"
            ]
        },
        {
            "cell_type": "code",
            "execution_count": null,
            "metadata": {},
            "outputs": [],
            "source": [
                "# Ruta del archivo ZIP en la carpeta 'data'\n",
                "zip_path = \"data/acea-water-prediction.zip\"\n",
                "\n",
                "# Directorio principal (donde está tu script)\n",
                "extract_to = os.getcwd()\n",
                "\n",
                "# Extraer solo \"Lake_Bilancino.csv\" en el directorio principal\n",
                "with zipfile.ZipFile(zip_path, \"r\") as zip_ref:\n",
                "    if \"Lake_Bilancino.csv\" in zip_ref.namelist():\n",
                "        zip_ref.extract(\"Lake_Bilancino.csv\", extract_to)\n",
                "        print(f\"'Lake_Bilancino.csv' extraído \")\n",
                "    else:\n",
                "        print(\"El archivo 'Lake_Bilancino.csv' no se encontró en el ZIP.\")\n"
            ]
        },
        {
            "cell_type": "code",
            "execution_count": 18,
            "metadata": {},
            "outputs": [
                {
                    "data": {
                        "text/html": [
                            "<div>\n",
                            "<style scoped>\n",
                            "    .dataframe tbody tr th:only-of-type {\n",
                            "        vertical-align: middle;\n",
                            "    }\n",
                            "\n",
                            "    .dataframe tbody tr th {\n",
                            "        vertical-align: top;\n",
                            "    }\n",
                            "\n",
                            "    .dataframe thead th {\n",
                            "        text-align: right;\n",
                            "    }\n",
                            "</style>\n",
                            "<table border=\"1\" class=\"dataframe\">\n",
                            "  <thead>\n",
                            "    <tr style=\"text-align: right;\">\n",
                            "      <th></th>\n",
                            "      <th>Date</th>\n",
                            "      <th>Rainfall_S_Piero</th>\n",
                            "      <th>Rainfall_Mangona</th>\n",
                            "      <th>Rainfall_S_Agata</th>\n",
                            "      <th>Rainfall_Cavallina</th>\n",
                            "      <th>Rainfall_Le_Croci</th>\n",
                            "      <th>Temperature_Le_Croci</th>\n",
                            "      <th>Lake_Level</th>\n",
                            "      <th>Flow_Rate</th>\n",
                            "    </tr>\n",
                            "  </thead>\n",
                            "  <tbody>\n",
                            "    <tr>\n",
                            "      <th>0</th>\n",
                            "      <td>03/06/2002</td>\n",
                            "      <td>NaN</td>\n",
                            "      <td>NaN</td>\n",
                            "      <td>NaN</td>\n",
                            "      <td>NaN</td>\n",
                            "      <td>NaN</td>\n",
                            "      <td>NaN</td>\n",
                            "      <td>249.43</td>\n",
                            "      <td>0.31</td>\n",
                            "    </tr>\n",
                            "    <tr>\n",
                            "      <th>1</th>\n",
                            "      <td>04/06/2002</td>\n",
                            "      <td>NaN</td>\n",
                            "      <td>NaN</td>\n",
                            "      <td>NaN</td>\n",
                            "      <td>NaN</td>\n",
                            "      <td>NaN</td>\n",
                            "      <td>NaN</td>\n",
                            "      <td>249.43</td>\n",
                            "      <td>0.31</td>\n",
                            "    </tr>\n",
                            "    <tr>\n",
                            "      <th>2</th>\n",
                            "      <td>05/06/2002</td>\n",
                            "      <td>NaN</td>\n",
                            "      <td>NaN</td>\n",
                            "      <td>NaN</td>\n",
                            "      <td>NaN</td>\n",
                            "      <td>NaN</td>\n",
                            "      <td>NaN</td>\n",
                            "      <td>249.43</td>\n",
                            "      <td>0.31</td>\n",
                            "    </tr>\n",
                            "    <tr>\n",
                            "      <th>3</th>\n",
                            "      <td>06/06/2002</td>\n",
                            "      <td>NaN</td>\n",
                            "      <td>NaN</td>\n",
                            "      <td>NaN</td>\n",
                            "      <td>NaN</td>\n",
                            "      <td>NaN</td>\n",
                            "      <td>NaN</td>\n",
                            "      <td>249.43</td>\n",
                            "      <td>0.31</td>\n",
                            "    </tr>\n",
                            "    <tr>\n",
                            "      <th>4</th>\n",
                            "      <td>07/06/2002</td>\n",
                            "      <td>NaN</td>\n",
                            "      <td>NaN</td>\n",
                            "      <td>NaN</td>\n",
                            "      <td>NaN</td>\n",
                            "      <td>NaN</td>\n",
                            "      <td>NaN</td>\n",
                            "      <td>249.44</td>\n",
                            "      <td>0.31</td>\n",
                            "    </tr>\n",
                            "  </tbody>\n",
                            "</table>\n",
                            "</div>"
                        ],
                        "text/plain": [
                            "         Date  Rainfall_S_Piero  Rainfall_Mangona  Rainfall_S_Agata  \\\n",
                            "0  03/06/2002               NaN               NaN               NaN   \n",
                            "1  04/06/2002               NaN               NaN               NaN   \n",
                            "2  05/06/2002               NaN               NaN               NaN   \n",
                            "3  06/06/2002               NaN               NaN               NaN   \n",
                            "4  07/06/2002               NaN               NaN               NaN   \n",
                            "\n",
                            "   Rainfall_Cavallina  Rainfall_Le_Croci  Temperature_Le_Croci  Lake_Level  \\\n",
                            "0                 NaN                NaN                   NaN      249.43   \n",
                            "1                 NaN                NaN                   NaN      249.43   \n",
                            "2                 NaN                NaN                   NaN      249.43   \n",
                            "3                 NaN                NaN                   NaN      249.43   \n",
                            "4                 NaN                NaN                   NaN      249.44   \n",
                            "\n",
                            "   Flow_Rate  \n",
                            "0       0.31  \n",
                            "1       0.31  \n",
                            "2       0.31  \n",
                            "3       0.31  \n",
                            "4       0.31  "
                        ]
                    },
                    "execution_count": 18,
                    "metadata": {},
                    "output_type": "execute_result"
                }
            ],
            "source": [
                "pd.options.display.max_columns=None\n",
                "df = pd.read_csv(\"Lake_Bilancino.csv\")\n",
                "df.head()"
            ]
        },
        {
            "cell_type": "markdown",
            "metadata": {},
            "source": [
                "<div style=\"text-align: justify;\">\n",
                "    Quisque eleifend, purus quis lobortis imperdiet, est nisl dictum nisl, non molestie orci magna vitae nulla. Mauris tincidunt tristique sem, vitae suscipit augue semper ac. Vestibulum a risus in sapien pretium egestas. Morbi eu sagittis nunc. Nulla ut quam pellentesque, consequat urna nec, rutrum turpis. Cras accumsan nulla quis odio cursus, sit amet sagittis augue mattis. Maecenas pulvinar vel justo sit amet aliquam. Maecenas nec imperdiet lacus.\n",
                "</div>"
            ]
        },
        {
            "cell_type": "markdown",
            "metadata": {},
            "source": [
                "<p style=\"text-align: justify;\">\n",
                "    Proin porttitor ornare auctor. Ut non porta neque. Duis at ipsum purus. Integer suscipit gravida sem at elementum. Morbi rhoncus, lorem eu interdum tincidunt, leo libero pulvinar dolor, vitae scelerisque ex lorem vitae turpis. Nullam nec faucibus mi, at efficitur neque. Vivamus quis magna sem. Duis tincidunt sapien ac imperdiet molestie. Morbi risus ex, dapibus ut gravida et, elementum vel augue. Aliquam erat volutpat. Suspendisse nec tristique eros.\n",
                "</p>\n"
            ]
        },
        {
            "cell_type": "markdown",
            "metadata": {},
            "source": [
                "Quisque eleifend, purus quis lobortis imperdiet, est nisl dictum nisl, non molestie orci magna vitae nulla. Mauris tincidunt tristique sem, vitae suscipit augue semper ac. Vestibulum a risus in sapien pretium egestas. Morbi eu sagittis nunc. Nulla ut quam pellentesque, consequat urna nec, rutrum turpis. Cras accumsan nulla quis odio cursus, sit amet sagittis augue mattis. Maecenas pulvinar vel justo sit amet aliquam. Maecenas nec imperdiet lacus."
            ]
        }
    ],
    "metadata": {
        "kernelspec": {
            "display_name": "Python 3",
            "language": "python",
            "name": "python3"
        },
        "language_info": {
            "codemirror_mode": {
                "name": "ipython",
                "version": 3
            },
            "file_extension": ".py",
            "mimetype": "text/x-python",
            "name": "python",
            "nbconvert_exporter": "python",
            "pygments_lexer": "ipython3",
            "version": "3.12.6"
        },
        "orig_nbformat": 4
    },
    "nbformat": 4,
    "nbformat_minor": 2
}
